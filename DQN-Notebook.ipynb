{
 "cells": [
  {
   "cell_type": "markdown",
   "metadata": {},
   "source": [
    "# Deep Q-Networks\n",
    "\n",
    "In 2014, Google DeepMind published a new RL algorithm called Deep Q-Network that allowed them to play many Atari Games at a superhuman level for the first time. Although this algorithm was outdated just two years later, it is still quite fast and efficient thanks to several improvements, and we will see a simple implementation in this notebook.\n",
    "\n",
    "## The basis : Q-Network\n",
    "\n",
    "The DQN algorithm is based on the previously developed Q-Network algorithm "
   ]
  }
 ],
 "metadata": {
  "kernelspec": {
   "display_name": "Python 3",
   "language": "python",
   "name": "python3"
  },
  "language_info": {
   "codemirror_mode": {
    "name": "ipython",
    "version": 3
   },
   "file_extension": ".py",
   "mimetype": "text/x-python",
   "name": "python",
   "nbconvert_exporter": "python",
   "pygments_lexer": "ipython3",
   "version": "3.6.1"
  }
 },
 "nbformat": 4,
 "nbformat_minor": 2
}
